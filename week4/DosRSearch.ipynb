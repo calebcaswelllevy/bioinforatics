{
 "cells": [
  {
   "cell_type": "markdown",
   "metadata": {},
   "source": [
    "# Find the DosR binding sites in bacterial genomes, and associated gene regions\n",
    "\n",
    "- I recommend using pypy for this, as some of these analyses are computationally expensive.\n",
    "- We start by reading in the data, and running a Gibbs sampler with varying ks to get an idea of how big the motifs are.\n",
    "- next, we zero in on our best guess of k, which just happens to be 20 (I cheated a little and checked out Park et al. 2003).\n",
    "- Once we have our motif matrix, we find a consensus string.\n",
    "- And last, we look for start codons and stop codons downstream from the promotors to take a stab at finding the associated genes. "
   ]
  },
  {
   "cell_type": "markdown",
   "metadata": {},
   "source": [
    "## Import and parse the data:\n",
    "\n",
    " By default, the parseFile.parse() function assumes a newline delimited file with a header row of parameters. This can be changed, see the docstring for parseFile() for more info."
   ]
  },
  {
   "cell_type": "code",
   "execution_count": 2,
   "metadata": {},
   "outputs": [],
   "source": [
    "import sys, parseFile, gibbsSamplerScript, math, medianString\n",
    "\n",
    "#Your file here:\n",
    "file = \"DosR.txt\"\n",
    "data = parseFile.parse(file)\n",
    "params, dna = data\n",
    "k, t = params"
   ]
  },
  {
   "cell_type": "markdown",
   "metadata": {},
   "source": [
    "## Find an estimate of motif length:\n",
    "\n",
    " This runs a quick and dirty gibbs sampler on ks between 10 and 25, and print the best kmer for each.  By default, it uses hamming distance from consensus strings as its minimization function, but it can also use entropy. See gibbsSampler.py for info."
   ]
  },
  {
   "cell_type": "code",
   "execution_count": 3,
   "metadata": {},
   "outputs": [
    {
     "name": "stdout",
     "output_type": "stream",
     "text": [
      "GGGACTTCAGGCCCT GGGTCAAACGACCCT GGGACGTAAGTCCCT CGGGCTTCCAACCGT GTGACCGACGTCCCC AGGACCTTCGGCCCC GGGACTTCTGTCCCT GGGACTTTCGGCCCT GGGACCAACGCCCCT GGGACCGAAGTCCCC 35\n",
      "Per-base score for k = 15 is: 2.3333333333333335\n",
      "GGGACTTCAGGCCCTA GGGTCAAACGACCCTA GGGACGTAAGTCCCTA GTGGGCAGCCTCCATA GTGACCGACGTCCCCA AGGACCTTCGGCCCCA GGGACTTCTGTCCCTA GGGACTTTCGGCCCTG GGGACCAACGCCCCTG GGGACCGAAGTCCCCG 38\n",
      "Per-base score for k = 16 is: 2.375\n",
      "GGGACTTCAGGCCCTAT GGGTCAAACGACCCTAG GGGACGTAAGTCCCTAA TGGATTACCGACCGCAG GTGACCGACGTCCCCAG AGGACCTTCGGCCCCAC GGGACTTCTGTCCCTAG GGGACTTTCGGCCCTGT GGGACCAACGCCCCTGG GGGACCGAAGTCCCCGG 43\n",
      "Per-base score for k = 17 is: 2.5294117647058822\n",
      "GGGACTTCAGGCCCTATC GGGTCAAACGACCCTAGT GGGACGTAAGTCCCTAAC GCCGTCTCAGTACCCAGC GTGACCGACGTCCCCAGC AGGACCTTCGGCCCCACC GGGACTTCTGTCCCTAGC GGGACTTTCGGCCCTGTC GGGACCAACGCCCCTGGG GGGACCGAAGTCCCCGGG 46\n",
      "Per-base score for k = 18 is: 2.5555555555555554\n",
      "GGGACTTCAGGCCCTATCG GGGTCAAACGACCCTAGTG GGGACGTAAGTCCCTAACG CGGGCTTCCAACCGTGGCC GTGACCGACGTCCCCAGCC AGGACCTTCGGCCCCACCC GGGACTTCTGTCCCTAGCC GGGACTTTCGGCCCTGTCC GGGACCAACGCCCCTGGGA GGGACCGAAGTCCCCGGGC 50\n",
      "Per-base score for k = 19 is: 2.6315789473684212\n",
      "CGGGACTTCAGGCCCTATCG CGGGTCAAACGACCCTAGTG CGGGACGTAAGTCCCTAACG GGCCGTCTCAGTACCCAGCC CGTGACCGACGTCCCCAGCC GAGGACCTTCGGCCCCACCC GGGGACTTCTGTCCCTAGCC TGGGACTTTCGGCCCTGTCC GGGGACCAACGCCCCTGGGA GGGGACCGAAGTCCCCGGGC 55\n",
      "Per-base score for k = 20 is: 2.75\n",
      "CCGGGACTTCAGGCCCTATCG ACGGGTCAAACGACCCTAGTG GCGGGACGTAAGTCCCTAACG TGGCCGTCTCAGTACCCAGCC TCGTGACCGACGTCCCCAGCC TGAGGACCTTCGGCCCCACCC CGGGGACTTCTGTCCCTAGCC ATGGGACTTTCGGCCCTGTCC TGGGGACCAACGCCCCTGGGA TGGGGACCGAAGTCCCCGGGC 60\n",
      "Per-base score for k = 21 is: 2.857142857142857\n",
      "GCGGACGAATGACCCCAGTGGC CGGGTCCATCGACCCGCGGCCC CGGGACGTAAGTCCCTAACGCG GGCCGTCTCAGTACCCAGCCTC CGTGACCGACGTCCCCAGCCCC GAGGACCTTCGGCCCCACCCAC GGGGACTTCTGTCCCTAGCCCT TGGGACTTTCGGCCCTGTCCGC GGGGACCAACGCCCCTGGGAGA GGGGACCGAAGTCCCCGGGCTC 65\n",
      "Per-base score for k = 22 is: 2.9545454545454546\n",
      "GGCGGACGAATGACCCCAGTGGC ACGGGTCCATCGACCCGCGGCCC GCGGGACGTAAGTCCCTAACGCG TGGCCGTCTCAGTACCCAGCCTC TCGTGACCGACGTCCCCAGCCCC TGAGGACCTTCGGCCCCACCCAC CGGGGACTTCTGTCCCTAGCCCT ATGGGACTTTCGGCCCTGTCCGC TGGGGACCAACGCCCCTGGGAGA TGGGGACCGAAGTCCCCGGGCTC 70\n",
      "Per-base score for k = 23 is: 3.0434782608695654\n",
      "GGACGAATGACCCCAGTGGCCGGG GGTCCATCGACCCGCGGCCCACGG GGGCCACCACAACGGGCCGCCGGT CGATCATCGGCCAGGGCGCCGGGC TGACCGACGTCCCCAGCCCCAAGG GGACCTTCGGCCCCACCCACGAGG GGACAAATGGCCCGCGCTTCGGGG GGACTTTCGGCCCTGTCCGCGTCC GGACCAACGCCCCTGGGAGATAGC GGACCGAAGTCCCCGGGCTCGGAG 74\n",
      "Per-base score for k = 24 is: 3.0833333333333335\n",
      "bestK:       15\n",
      "bestKScore:  2.3333333333333335\n",
      "Printing answers:\n",
      "{'bestK': 15, 'bestKScore': 2.3333333333333335, 'bestMotif': '', 15: {'score': 35, 'motifs': ['GGGACTTCAGGCCCT', 'GGGTCAAACGACCCT', 'GGGACGTAAGTCCCT', 'CGGGCTTCCAACCGT', 'GTGACCGACGTCCCC', 'AGGACCTTCGGCCCC', 'GGGACTTCTGTCCCT', 'GGGACTTTCGGCCCT', 'GGGACCAACGCCCCT', 'GGGACCGAAGTCCCC'], 'ratio': 2.3333333333333335}, 16: {'score': 38, 'motifs': ['GGGACTTCAGGCCCTA', 'GGGTCAAACGACCCTA', 'GGGACGTAAGTCCCTA', 'GTGGGCAGCCTCCATA', 'GTGACCGACGTCCCCA', 'AGGACCTTCGGCCCCA', 'GGGACTTCTGTCCCTA', 'GGGACTTTCGGCCCTG', 'GGGACCAACGCCCCTG', 'GGGACCGAAGTCCCCG'], 'ratio': 2.375}, 17: {'score': 43, 'motifs': ['GGGACTTCAGGCCCTAT', 'GGGTCAAACGACCCTAG', 'GGGACGTAAGTCCCTAA', 'TGGATTACCGACCGCAG', 'GTGACCGACGTCCCCAG', 'AGGACCTTCGGCCCCAC', 'GGGACTTCTGTCCCTAG', 'GGGACTTTCGGCCCTGT', 'GGGACCAACGCCCCTGG', 'GGGACCGAAGTCCCCGG'], 'ratio': 2.5294117647058822}, 18: {'score': 46, 'motifs': ['GGGACTTCAGGCCCTATC', 'GGGTCAAACGACCCTAGT', 'GGGACGTAAGTCCCTAAC', 'GCCGTCTCAGTACCCAGC', 'GTGACCGACGTCCCCAGC', 'AGGACCTTCGGCCCCACC', 'GGGACTTCTGTCCCTAGC', 'GGGACTTTCGGCCCTGTC', 'GGGACCAACGCCCCTGGG', 'GGGACCGAAGTCCCCGGG'], 'ratio': 2.5555555555555554}, 19: {'score': 50, 'motifs': ['GGGACTTCAGGCCCTATCG', 'GGGTCAAACGACCCTAGTG', 'GGGACGTAAGTCCCTAACG', 'CGGGCTTCCAACCGTGGCC', 'GTGACCGACGTCCCCAGCC', 'AGGACCTTCGGCCCCACCC', 'GGGACTTCTGTCCCTAGCC', 'GGGACTTTCGGCCCTGTCC', 'GGGACCAACGCCCCTGGGA', 'GGGACCGAAGTCCCCGGGC'], 'ratio': 2.6315789473684212}, 20: {'score': 55, 'motifs': ['CGGGACTTCAGGCCCTATCG', 'CGGGTCAAACGACCCTAGTG', 'CGGGACGTAAGTCCCTAACG', 'GGCCGTCTCAGTACCCAGCC', 'CGTGACCGACGTCCCCAGCC', 'GAGGACCTTCGGCCCCACCC', 'GGGGACTTCTGTCCCTAGCC', 'TGGGACTTTCGGCCCTGTCC', 'GGGGACCAACGCCCCTGGGA', 'GGGGACCGAAGTCCCCGGGC'], 'ratio': 2.75}, 21: {'score': 60, 'motifs': ['CCGGGACTTCAGGCCCTATCG', 'ACGGGTCAAACGACCCTAGTG', 'GCGGGACGTAAGTCCCTAACG', 'TGGCCGTCTCAGTACCCAGCC', 'TCGTGACCGACGTCCCCAGCC', 'TGAGGACCTTCGGCCCCACCC', 'CGGGGACTTCTGTCCCTAGCC', 'ATGGGACTTTCGGCCCTGTCC', 'TGGGGACCAACGCCCCTGGGA', 'TGGGGACCGAAGTCCCCGGGC'], 'ratio': 2.857142857142857}, 22: {'score': 65, 'motifs': ['GCGGACGAATGACCCCAGTGGC', 'CGGGTCCATCGACCCGCGGCCC', 'CGGGACGTAAGTCCCTAACGCG', 'GGCCGTCTCAGTACCCAGCCTC', 'CGTGACCGACGTCCCCAGCCCC', 'GAGGACCTTCGGCCCCACCCAC', 'GGGGACTTCTGTCCCTAGCCCT', 'TGGGACTTTCGGCCCTGTCCGC', 'GGGGACCAACGCCCCTGGGAGA', 'GGGGACCGAAGTCCCCGGGCTC'], 'ratio': 2.9545454545454546}, 23: {'score': 70, 'motifs': ['GGCGGACGAATGACCCCAGTGGC', 'ACGGGTCCATCGACCCGCGGCCC', 'GCGGGACGTAAGTCCCTAACGCG', 'TGGCCGTCTCAGTACCCAGCCTC', 'TCGTGACCGACGTCCCCAGCCCC', 'TGAGGACCTTCGGCCCCACCCAC', 'CGGGGACTTCTGTCCCTAGCCCT', 'ATGGGACTTTCGGCCCTGTCCGC', 'TGGGGACCAACGCCCCTGGGAGA', 'TGGGGACCGAAGTCCCCGGGCTC'], 'ratio': 3.0434782608695654}, 24: {'score': 74, 'motifs': ['GGACGAATGACCCCAGTGGCCGGG', 'GGTCCATCGACCCGCGGCCCACGG', 'GGGCCACCACAACGGGCCGCCGGT', 'CGATCATCGGCCAGGGCGCCGGGC', 'TGACCGACGTCCCCAGCCCCAAGG', 'GGACCTTCGGCCCCACCCACGAGG', 'GGACAAATGGCCCGCGCTTCGGGG', 'GGACTTTCGGCCCTGTCCGCGTCC', 'GGACCAACGCCCCTGGGAGATAGC', 'GGACCGAAGTCCCCGGGCTCGGAG'], 'ratio': 3.0833333333333335}}\n"
     ]
    }
   ],
   "source": [
    "\n",
    "\n",
    "\n",
    "motifs = {'bestK' : 0, 'bestKScore': math.inf, 'bestMotif' : ''}\n",
    "for i in range(15, 25):\n",
    "    answer = gibbsSamplerScript.runGibbsSampler(dna=dna, k=i, t=t, reps=30, searchLength=2000)\n",
    "    answerDict = {}\n",
    "    answerDict[\"score\"] = answer[0]\n",
    "    answerDict[\"motifs\"] = answer[1]\n",
    "    answerDict[\"ratio\"] = answerDict[\"score\"]/i\n",
    "    #answerDict[\"consensus\"] = medianString.medianString(answerDict[\"motifs\"], i)\n",
    "    if answerDict[\"ratio\"] < motifs[\"bestKScore\"]:\n",
    "        motifs[\"bestK\"] = i\n",
    "        motifs[\"bestKScore\"] = answerDict[\"ratio\"]\n",
    "        #motifs[\"bestMotif\"] = answerDict[\"consensus\"]\n",
    "    motifs[i] = answerDict\n",
    "    ratio=answerDict[\"ratio\"]\n",
    "    #consensus = answerDict[\"consensus\"]\n",
    "    print(f\"Per-base score for k = {i} is: {ratio}\")\n",
    "\n",
    "print(\"bestK:      \", motifs['bestK'])\n",
    "print(\"bestKScore: \", motifs['bestKScore'])\n",
    "#print(\"Best consensus motif: \", motifs[\"bestMotif\"])\n",
    "print(\"Printing answers:\")\n",
    "print(motifs)"
   ]
  },
  {
   "cell_type": "markdown",
   "metadata": {},
   "source": [
    "## Take a look at the relative score as a function of k\n",
    "\n",
    "This should give us an idea of where the motifs start to diverge, i.e. the motif size.\n"
   ]
  },
  {
   "cell_type": "code",
   "execution_count": 5,
   "metadata": {},
   "outputs": [
    {
     "name": "stderr",
     "output_type": "stream",
     "text": [
      "/usr/local/Cellar/pypy3/7.3.6/libexec/lib_pypy/_functools.py:80: MatplotlibDeprecationWarning: savefig() got unexpected keyword argument \"orientation\" which is no longer supported as of 3.3 and will become an error two minor releases later\n",
      "  return self._func(*(self._args + fargs), **fkeywords)\n"
     ]
    },
    {
     "data": {
      "image/png": "[encoded data removed]",
      "text/plain": [
       "<Figure size 432x288 with 1 Axes>"
      ]
     },
     "metadata": {
      "needs_background": "light"
     },
     "output_type": "display_data"
    }
   ],
   "source": [
    "import matplotlib.pyplot as plt\n",
    "\n",
    "x = [i for i in range(15, 25, 1)]\n",
    "y = [motifs[i]['ratio'] for i in range(15, 25, 1)]\n",
    "\n",
    "plt.plot(x, y)\n",
    "plt.title(\"Optimum Score for varying kmer sizes\")\n",
    "plt.xlabel(\"k\")\n",
    "plt.ylabel(\"score / k\")\n",
    "plt.show()"
   ]
  },
  {
   "cell_type": "markdown",
   "metadata": {},
   "source": [
    "## Zero in on 20-mer motifs, and find the consensus motif\n",
    "\n",
    "Ok, it looks like k near 20 is a good guess (I'm either explicitly incorporating my prior beleifs here like a good Bayesian or cheating by looking at Park et al. You can decide ;). Let's run a longer search on the data for a 20-mer motif matrix. Hopefully this will give us a good estimate of the DosR promotor sites.\n",
    "\n",
    "(The gibbs Sampler algorithm is gonna lag for quite a while because we are doing 50 iterations of the inner loop, which iterates 2000 times. This is where pypy really comes in handy. Go grab a coffee.)"
   ]
  },
  {
   "cell_type": "code",
   "execution_count": 7,
   "metadata": {},
   "outputs": [
    {
     "name": "stdout",
     "output_type": "stream",
     "text": [
      "CGGGACTTCAGGCCCTATCG CGGGTCAAACGACCCTAGTG CGGGACGTAAGTCCCTAACG CCGGGCTTCCAACCGTGGCC CGTGACCGACGTCCCCAGCC GAGGACCTTCGGCCCCACCC GGGGACTTCTGTCCCTAGCC TGGGACTTTCGGCCCTGTCC GGGGACCAACGCCCCTGGGA GGGGACCGAAGTCCCCGGGC 55\n",
      "The inferred motif matrix is:\n",
      "CGGGACTTCAGGCCCTATCG\n",
      "CGGGTCAAACGACCCTAGTG\n",
      "CGGGACGTAAGTCCCTAACG\n",
      "CCGGGCTTCCAACCGTGGCC\n",
      "CGTGACCGACGTCCCCAGCC\n",
      "GAGGACCTTCGGCCCCACCC\n",
      "GGGGACTTCTGTCCCTAGCC\n",
      "TGGGACTTTCGGCCCTGTCC\n",
      "GGGGACCAACGCCCCTGGGA\n",
      "GGGGACCGAAGTCCCCGGGC\n",
      "The consensus string is CGGGACCTACGTCCCTAGCC and the score is 55\n"
     ]
    }
   ],
   "source": [
    "import consensus\n",
    "\n",
    "score, motifMatrix = gibbsSamplerScript.runGibbsSampler(dna=dna, k=20, t=t, reps=50, searchLength=2000)\n",
    "consensusString = consensus.consensus(motifMatrix)\n",
    "\n",
    "print(f\"The inferred motif matrix is:\")\n",
    "[print(line) for line in motifMatrix]\n",
    "print(f\"The consensus string is {consensusString} and the score is {score}\")"
   ]
  },
  {
   "cell_type": "markdown",
   "metadata": {},
   "source": [
    "## Find associated coding regions\n",
    "\n",
    "Now that we have a good idea of the motif, we can find the index of the motif in each string. Then we can look downstream of the promoter site for a start codon and stop codon. We'll then take that to be an inferred coding region.\n",
    "\n",
    "EDIT: Turns out these sequences probably don't have coding regions, they have been snipped out to make the earlier exercise easier. But if they DID, just imagine the possibilities! This code should work to find downstream coding regions, with a few assumptions."
   ]
  },
  {
   "cell_type": "code",
   "execution_count": 18,
   "metadata": {},
   "outputs": [
    {
     "name": "stdout",
     "output_type": "stream",
     "text": [
      "The inferred genes are:\n",
      "ATGCATTATGACCAGCGAGCTGAGCCTGGTCGCCACTGGAAAGGGGAGCAACATC\n",
      "None\n",
      "None\n",
      "None\n",
      "None\n",
      "ATGACGTGCAATGTACGCCATAGGGTGCGTGTTACGGCGATTACCTGA\n",
      "ATGGGCTGGTCGGATCAAAGGCATCCGTTTCCATCGATTAGGAGGCATCAA\n",
      "None\n",
      "ATGTATCCGCCCCAGCGAAGGAGACGGCG\n",
      "None\n"
     ]
    },
    {
     "data": {
      "text/plain": [
       "[None, None, None, None, None, None, None, None, None, None]"
      ]
     },
     "execution_count": 18,
     "metadata": {},
     "output_type": "execute_result"
    }
   ],
   "source": [
    "import geneFinder\n",
    "from importlib import reload\n",
    "reload(geneFinder)\n",
    "promoterIndices = [string.find(motifMatrix[i]) for i, string in enumerate(dna)]\n",
    "\n",
    "genes = []\n",
    "for index, seq in enumerate(dna):\n",
    "    gene = geneFinder.search(seq, index=promoterIndices[index])\n",
    "    genes.append(gene)\n",
    "for i, gene in enumerate(genes):\n",
    "    if len(gene) < 6:\n",
    "        genes[i] = None\n",
    "print(\"The inferred genes are:\")\n",
    "[print(gene) for gene in genes]"
   ]
  }
 ],
 "metadata": {
  "interpreter": {
   "hash": "b05edd5c9f2f7278b467ccc88790e767b3870a511763912d09b6618b89f3529a"
  },
  "kernelspec": {
   "display_name": "Python 3.7.12 64-bit",
   "name": "python3"
  },
  "language_info": {
   "codemirror_mode": {
    "name": "ipython",
    "version": 3
   },
   "file_extension": ".py",
   "mimetype": "text/x-python",
   "name": "python",
   "nbconvert_exporter": "python",
   "pygments_lexer": "ipython3",
   "version": "3.7.12"
  },
  "orig_nbformat": 4
 },
 "nbformat": 4,
 "nbformat_minor": 2
}
