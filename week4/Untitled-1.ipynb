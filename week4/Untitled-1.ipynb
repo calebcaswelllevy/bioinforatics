{
 "cells": [
  {
   "cell_type": "markdown",
   "metadata": {},
   "source": [
    "# Find the DosR binding sites in bacterial genomes, and associated gene regions\n",
    "\n",
    "- I recommend using pypy for this, as some of these analyses are computationally expensive.\n",
    "- We start by reading in the data, and running a Gibbs sampler with varying ks to get an idea of how big the motifs are.\n",
    "- next, we zero in on our best guess of k, which just happens to be 20 (I cheated a little and checked out Park et al. 2003).\n",
    "- Once we have our motif matrix, we find a consensus string.\n",
    "- And last, we look for start codons and stop codons downstream from the promotors to take a stab at finding the associated genes. "
   ]
  },
  {
   "cell_type": "markdown",
   "metadata": {},
   "source": [
    "## Import and parse the data:\n",
    "\n",
    " By default, the parseFile.parse() function assumes a newline delimited file with a header row of parameters. This can be changed, see the docstring for parseFile() for more info."
   ]
  },
  {
   "cell_type": "code",
   "execution_count": 1,
   "metadata": {},
   "outputs": [],
   "source": [
    "import sys, parseFile, gibbsSamplerScript, math, medianString\n",
    "\n",
    "#Your file here:\n",
    "file = \"DosR.txt\"\n",
    "data = parseFile.parse(file)\n",
    "params, dna = data\n",
    "k, t = params"
   ]
  },
  {
   "cell_type": "markdown",
   "metadata": {},
   "source": [
    "## Find an estimate of motif length:\n",
    "\n",
    " This runs a quick and dirty gibbs sampler on ks between 10 and 25, and print the best kmer for each.  By default, it uses hamming distance from consensus strings as its minimization function, but it can also use entropy. See gibbsSampler.py for info."
   ]
  },
  {
   "cell_type": "code",
   "execution_count": 3,
   "metadata": {},
   "outputs": [
    {
     "name": "stdout",
     "output_type": "stream",
     "text": [
      "GGGACTTCAGGCCCT GGGTCAAACGACCCT GGGACGTAAGTCCCT GACACACAAGCGCCA GGGGCGAAAGTCCCT CGGTCTTGAGGACCT GGGACTTCTGTCCCT GGGACTTTCGGCCCT AGGACTAACGGCCCT GGGACCGAAGTCCCC 35\n",
      "Per-base score for k = 15 is: 2.3333333333333335\n",
      "GGGACTTCAGGCCCTA GGGTCAAACGACCCTA GGGACGTAAGTCCCTA GTGGGCAGCCTCCATA GTGACCGACGTCCCCA AGGACCTTCGGCCCCA GGGACTTCTGTCCCTA GGGACTTTCGGCCCTG GGGACCAACGCCCCTG GGGACCGAAGTCCCCG 38\n",
      "Per-base score for k = 16 is: 2.375\n",
      "GGGACTTCAGGCCCTAT GGGTCAAACGACCCTAG GGGACGTAAGTCCCTAA TGGATTACCGACCGCAG GTGACCGACGTCCCCAG AGGACCTTCGGCCCCAC GGGACTTCTGTCCCTAG GGGACTTTCGGCCCTGT GGGACCAACGCCCCTGG GGGACCGAAGTCCCCGG 43\n",
      "Per-base score for k = 17 is: 2.5294117647058822\n",
      "GGGACTTCAGGCCCTATC GGGTCAAACGACCCTAGT GGGACGTAAGTCCCTAAC GCCGTCTCAGTACCCAGC GTGACCGACGTCCCCAGC AGGACCTTCGGCCCCACC GGGACTTCTGTCCCTAGC GGGACTTTCGGCCCTGTC GGGACCAACGCCCCTGGG GGGACCGAAGTCCCCGGG 46\n",
      "Per-base score for k = 18 is: 2.5555555555555554\n",
      "GGGACTTCAGGCCCTATCG GGGTCAAACGACCCTAGTG GGGACGTAAGTCCCTAACG GCCGTCTCAGTACCCAGCC GTGACCGACGTCCCCAGCC AGGACCTTCGGCCCCACCC GGGACTTCTGTCCCTAGCC GGGACTTTCGGCCCTGTCC GGGACCAACGCCCCTGGGA GGGACCGAAGTCCCCGGGC 50\n",
      "Per-base score for k = 19 is: 2.6315789473684212\n",
      "CGGGACTTCAGGCCCTATCG CGGGTCAAACGACCCTAGTG CGGGACGTAAGTCCCTAACG GGCCGTCTCAGTACCCAGCC CGTGACCGACGTCCCCAGCC GAGGACCTTCGGCCCCACCC GGGGACTTCTGTCCCTAGCC TGGGACTTTCGGCCCTGTCC GGGGACCAACGCCCCTGGGA GGGGACCGAAGTCCCCGGGC 55\n",
      "Per-base score for k = 20 is: 2.75\n",
      "CCGGGACTTCAGGCCCTATCG ACGGGTCAAACGACCCTAGTG GCGGGACGTAAGTCCCTAACG TGGCCGTCTCAGTACCCAGCC TCGTGACCGACGTCCCCAGCC TGAGGACCTTCGGCCCCACCC CGGGGACTTCTGTCCCTAGCC ATGGGACTTTCGGCCCTGTCC TGGGGACCAACGCCCCTGGGA TGGGGACCGAAGTCCCCGGGC 60\n",
      "Per-base score for k = 21 is: 2.857142857142857\n",
      "GCGGACGAATGACCCCAGTGGC CGGGTCCATCGACCCGCGGCCC CGGGACGTAAGTCCCTAACGCG GGCCGTCTCAGTACCCAGCCTC CGTGACCGACGTCCCCAGCCCC GAGGACCTTCGGCCCCACCCAC GGGGACTTCTGTCCCTAGCCCT TGGGACTTTCGGCCCTGTCCGC GGGGACCAACGCCCCTGGGAGA GGGGACCGAAGTCCCCGGGCTC 65\n",
      "Per-base score for k = 22 is: 2.9545454545454546\n"
     ]
    }
   ],
   "source": [
    "\n",
    "\n",
    "\n",
    "motifs = {'bestK' : 0, 'bestKScore': math.inf, 'bestMotif' : ''}\n",
    "for i in range(15, 25):\n",
    "    answer = gibbsSamplerScript.runGibbsSampler(dna=dna, k=i, t=t, reps=30, searchLength=3000)\n",
    "    answerDict = {}\n",
    "    answerDict[\"score\"] = answer[0]\n",
    "    answerDict[\"motifs\"] = answer[1]\n",
    "    answerDict[\"ratio\"] = answerDict[\"score\"]/i\n",
    "    #answerDict[\"consensus\"] = medianString.medianString(answerDict[\"motifs\"], i)\n",
    "    if answerDict[\"ratio\"] < motifs[\"bestKScore\"]:\n",
    "        motifs[\"bestK\"] = i\n",
    "        motifs[\"bestKScore\"] = answerDict[\"ratio\"]\n",
    "        #motifs[\"bestMotif\"] = answerDict[\"consensus\"]\n",
    "    motifs[i] = answerDict\n",
    "    ratio=answerDict[\"ratio\"]\n",
    "    #consensus = answerDict[\"consensus\"]\n",
    "    print(f\"Per-base score for k = {i} is: {ratio}\")\n",
    "\n",
    "print(\"bestK:      \", motifs['bestK'])\n",
    "print(\"bestKScore: \", motifs['bestKScore'])\n",
    "#print(\"Best consensus motif: \", motifs[\"bestMotif\"])\n",
    "print(\"Printing answers:\")\n",
    "print(motifs)"
   ]
  },
  {
   "cell_type": "markdown",
   "metadata": {},
   "source": [
    "## Zero in on 20-mer motifs, and find the consensus motif\n",
    "\n",
    "Run a longer search on the data for a 20-mer motif matrix"
   ]
  },
  {
   "cell_type": "code",
   "execution_count": null,
   "metadata": {},
   "outputs": [],
   "source": [
    "score, motifMatrix = gibbsSamplerScript.runGibbsSampler(dna=dna, k=20, t=t, reps=50, searchLength=2000)\n",
    "consensus = medianString.medianString(motifMatrix, 20)"
   ]
  },
  {
   "cell_type": "markdown",
   "metadata": {},
   "source": [
    "## Find associated coding regions\n",
    "\n",
    "Now that we have a good idea of the motif, we can find the index of the motif in each string"
   ]
  }
 ],
 "metadata": {
  "interpreter": {
   "hash": "b05edd5c9f2f7278b467ccc88790e767b3870a511763912d09b6618b89f3529a"
  },
  "kernelspec": {
   "display_name": "Python 3.7.12 64-bit",
   "name": "python3"
  },
  "language_info": {
   "codemirror_mode": {
    "name": "ipython",
    "version": 3
   },
   "file_extension": ".py",
   "mimetype": "text/x-python",
   "name": "python",
   "nbconvert_exporter": "python",
   "pygments_lexer": "ipython3",
   "version": "3.7.12"
  },
  "orig_nbformat": 4
 },
 "nbformat": 4,
 "nbformat_minor": 2
}
